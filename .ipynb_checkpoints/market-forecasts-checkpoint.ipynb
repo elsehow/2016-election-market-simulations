{
 "cells": [
  {
   "cell_type": "markdown",
   "metadata": {
    "ein.tags": [
     "worksheet-0"
    ],
    "slideshow": {
     "slide_type": "-"
    }
   },
   "source": [
    "# Market-based election simulations 2016\n",
    "\n",
    "\n"
   ]
  },
  {
   "cell_type": "code",
   "execution_count": 1,
   "metadata": {
    "autoscroll": "json-false",
    "collapsed": false,
    "ein.tags": [
     "worksheet-0"
    ],
    "slideshow": {
     "slide_type": "-"
    }
   },
   "outputs": [
    {
     "name": "stdout",
     "output_type": "stream",
     "text": [
      "Requirement already satisfied (use --upgrade to upgrade): requests in /usr/local/lib/python2.7/site-packages\r\n"
     ]
    }
   ],
   "source": [
    "!pip install requests"
   ]
  },
  {
   "cell_type": "code",
   "execution_count": 136,
   "metadata": {
    "autoscroll": "json-false",
    "collapsed": false,
    "ein.tags": [
     "worksheet-0"
    ],
    "slideshow": {
     "slide_type": "-"
    }
   },
   "outputs": [
    {
     "name": "stdout",
     "output_type": "stream",
     "text": [
      "Populating the interactive namespace from numpy and matplotlib\n"
     ]
    }
   ],
   "source": [
    "%pylab inline"
   ]
  },
  {
   "cell_type": "code",
   "execution_count": 210,
   "metadata": {
    "autoscroll": "json-false",
    "collapsed": false,
    "ein.tags": [
     "worksheet-0"
    ],
    "slideshow": {
     "slide_type": "-"
    }
   },
   "outputs": [
    {
     "data": {
      "text/plain": [
       "0.955"
      ]
     },
     "execution_count": 210,
     "metadata": {},
     "output_type": "execute_result"
    }
   ],
   "source": [
    "import requests \n",
    "import json\n",
    "\n",
    "def request_json (url):\n",
    "    return json.loads(\n",
    "           requests.get(url, headers={\n",
    "            'Accept':'application/json'}).content)\n",
    "\n",
    "my_url = 'https://www.predictit.org/api/marketdata/ticker/RNOM16'\n",
    "request_json(url)\n",
    "\n",
    "def predictit (ticker):\n",
    "    return request_json('https://www.predictit.org/api/marketdata/ticker/' + ticker)\n",
    "\n",
    "def market (state_abbreviation):\n",
    "    return predictit('DEM.'+state_abbreviation+'.USPREZ16')\n",
    "\n",
    "def party_predictit (state_abbreviation, party):\n",
    "    def party_market (contract):\n",
    "        return contract['ShortName'] == party\n",
    "    contracts = market(state_abbreviation)['Contracts']\n",
    "    ctrct = filter(party_market, contracts)[0]\n",
    "    def average_yes (contract):\n",
    "        #return contract['BestSellYesCost']\n",
    "        if (party == 'Republican'):\n",
    "            return (contract['BestBuyNoCost'] + contract['BestSellNoCost'])/2\n",
    "        return (contract['BestBuyYesCost'] + contract['BestSellYesCost'])/2\n",
    "    return average_yes(ctrct)\n",
    "\n",
    "party_predictit('CA', 'Republican')"
   ]
  },
  {
   "cell_type": "code",
   "execution_count": 211,
   "metadata": {
    "autoscroll": "json-false",
    "collapsed": false,
    "ein.tags": [
     "worksheet-0"
    ],
    "slideshow": {
     "slide_type": "-"
    }
   },
   "outputs": [
    {
     "data": {
      "text/plain": [
       "[{'Democratic': 0.95,\n",
       "  'Republican': 0.95,\n",
       "  'abbreviation': 'WA',\n",
       "  'delegates': 12},\n",
       " {'Democratic': 0.885,\n",
       "  'Republican': 0.865,\n",
       "  'abbreviation': 'WI',\n",
       "  'delegates': 10},\n",
       " {'Democratic': 0.05500000000000001,\n",
       "  'Republican': 0.055,\n",
       "  'abbreviation': 'WV',\n",
       "  'delegates': 5},\n",
       " {'Democratic': 0.795,\n",
       "  'Republican': 0.77,\n",
       "  'abbreviation': 'FL',\n",
       "  'delegates': 29},\n",
       " {'Democratic': 0.08,\n",
       "  'Republican': 0.09,\n",
       "  'abbreviation': 'WY',\n",
       "  'delegates': 3},\n",
       " {'Democratic': 0.865,\n",
       "  'Republican': 0.855,\n",
       "  'abbreviation': 'NH',\n",
       "  'delegates': 4},\n",
       " {'Democratic': 0.945,\n",
       "  'Republican': 0.945,\n",
       "  'abbreviation': 'NJ',\n",
       "  'delegates': 14},\n",
       " {'Democratic': 0.895,\n",
       "  'Republican': 0.905,\n",
       "  'abbreviation': 'NM',\n",
       "  'delegates': 5},\n",
       " {'Democratic': 0.785,\n",
       "  'Republican': 0.775,\n",
       "  'abbreviation': 'NC',\n",
       "  'delegates': 15},\n",
       " {'Democratic': 0.11,\n",
       "  'Republican': 0.085,\n",
       "  'abbreviation': 'ND',\n",
       "  'delegates': 3},\n",
       " {'Democratic': 0.105,\n",
       "  'Republican': 0.105,\n",
       "  'abbreviation': 'NE',\n",
       "  'delegates': 5},\n",
       " {'Democratic': 0.945,\n",
       "  'Republican': 0.945,\n",
       "  'abbreviation': 'NY',\n",
       "  'delegates': 29},\n",
       " {'Democratic': 0.94,\n",
       "  'Republican': 0.9299999999999999,\n",
       "  'abbreviation': 'RI',\n",
       "  'delegates': 4},\n",
       " {'Democratic': 0.78,\n",
       "  'Republican': 0.765,\n",
       "  'abbreviation': 'NV',\n",
       "  'delegates': 6},\n",
       " {'Democratic': 0.88,\n",
       "  'Republican': 0.88,\n",
       "  'abbreviation': 'CO',\n",
       "  'delegates': 9},\n",
       " {'Democratic': 0.955,\n",
       "  'Republican': 0.955,\n",
       "  'abbreviation': 'CA',\n",
       "  'delegates': 55},\n",
       " {'Democratic': 0.36,\n",
       "  'Republican': 0.355,\n",
       "  'abbreviation': 'GA',\n",
       "  'delegates': 16},\n",
       " {'Democratic': 0.95,\n",
       "  'Republican': 0.95,\n",
       "  'abbreviation': 'CT',\n",
       "  'delegates': 7},\n",
       " {'Democratic': 0.09,\n",
       "  'Republican': 0.085,\n",
       "  'abbreviation': 'OK',\n",
       "  'delegates': 7},\n",
       " {'Democratic': 0.675,\n",
       "  'Republican': 0.665,\n",
       "  'abbreviation': 'OH',\n",
       "  'delegates': 18},\n",
       " {'Democratic': 0.14,\n",
       "  'Republican': 0.14,\n",
       "  'abbreviation': 'KS',\n",
       "  'delegates': 6},\n",
       " {'Democratic': 0.22999999999999998,\n",
       "  'Republican': 0.24,\n",
       "  'abbreviation': 'SC',\n",
       "  'delegates': 9},\n",
       " {'Democratic': 0.09,\n",
       "  'Republican': 0.085,\n",
       "  'abbreviation': 'KY',\n",
       "  'delegates': 8},\n",
       " {'Democratic': 0.94,\n",
       "  'Republican': 0.935,\n",
       "  'abbreviation': 'OR',\n",
       "  'delegates': 7},\n",
       " {'Democratic': 0.155,\n",
       "  'Republican': 0.14500000000000002,\n",
       "  'abbreviation': 'SD',\n",
       "  'delegates': 3},\n",
       " {'Democratic': 0.955,\n",
       "  'Republican': 0.95,\n",
       "  'abbreviation': 'DE',\n",
       "  'delegates': 3},\n",
       " {'Democratic': 0.975,\n",
       "  'Republican': 0.97,\n",
       "  'abbreviation': 'DC',\n",
       "  'delegates': 3},\n",
       " {'Democratic': 0.965,\n",
       "  'Republican': 0.965,\n",
       "  'abbreviation': 'HI',\n",
       "  'delegates': 4},\n",
       " {'Democratic': 0.22999999999999998,\n",
       "  'Republican': 0.22999999999999998,\n",
       "  'abbreviation': 'TX',\n",
       "  'delegates': 38},\n",
       " {'Democratic': 0.10500000000000001,\n",
       "  'Republican': 0.105,\n",
       "  'abbreviation': 'LA',\n",
       "  'delegates': 8},\n",
       " {'Democratic': 0.085,\n",
       "  'Republican': 0.095,\n",
       "  'abbreviation': 'TN',\n",
       "  'delegates': 11},\n",
       " {'Democratic': 0.88,\n",
       "  'Republican': 0.865,\n",
       "  'abbreviation': 'PA',\n",
       "  'delegates': 20},\n",
       " {'Democratic': 0.925,\n",
       "  'Republican': 0.915,\n",
       "  'abbreviation': 'VA',\n",
       "  'delegates': 13},\n",
       " {'Democratic': 0.24,\n",
       "  'Republican': 0.24,\n",
       "  'abbreviation': 'AK',\n",
       "  'delegates': 3},\n",
       " {'Democratic': 0.075,\n",
       "  'Republican': 0.07,\n",
       "  'abbreviation': 'AL',\n",
       "  'delegates': 9},\n",
       " {'Democratic': 0.11,\n",
       "  'Republican': 0.105,\n",
       "  'abbreviation': 'AR',\n",
       "  'delegates': 6},\n",
       " {'Democratic': 0.95,\n",
       "  'Republican': 0.95,\n",
       "  'abbreviation': 'VT',\n",
       "  'delegates': 3},\n",
       " {'Democratic': 0.945,\n",
       "  'Republican': 0.9450000000000001,\n",
       "  'abbreviation': 'IL',\n",
       "  'delegates': 20},\n",
       " {'Democratic': 0.245,\n",
       "  'Republican': 0.24,\n",
       "  'abbreviation': 'IN',\n",
       "  'delegates': 11},\n",
       " {'Democratic': 0.635,\n",
       "  'Republican': 0.615,\n",
       "  'abbreviation': 'IA',\n",
       "  'delegates': 6},\n",
       " {'Democratic': 0.545,\n",
       "  'Republican': 0.545,\n",
       "  'abbreviation': 'AZ',\n",
       "  'delegates': 11},\n",
       " {'Democratic': 0.095,\n",
       "  'Republican': 0.11499999999999999,\n",
       "  'abbreviation': 'ID',\n",
       "  'delegates': 4},\n",
       " {'Democratic': 0.89,\n",
       "  'Republican': 0.885,\n",
       "  'abbreviation': 'ME',\n",
       "  'delegates': 4},\n",
       " {'Democratic': 0.965,\n",
       "  'Republican': 0.965,\n",
       "  'abbreviation': 'MD',\n",
       "  'delegates': 10},\n",
       " {'Democratic': 0.96,\n",
       "  'Republican': 0.96,\n",
       "  'abbreviation': 'MA',\n",
       "  'delegates': 11},\n",
       " {'Democratic': 0.245,\n",
       "  'Republican': 0.41000000000000003,\n",
       "  'abbreviation': 'UT',\n",
       "  'delegates': 6},\n",
       " {'Democratic': 0.22999999999999998,\n",
       "  'Republican': 0.225,\n",
       "  'abbreviation': 'MO',\n",
       "  'delegates': 10},\n",
       " {'Democratic': 0.915,\n",
       "  'Republican': 0.91,\n",
       "  'abbreviation': 'MN',\n",
       "  'delegates': 10},\n",
       " {'Democratic': 0.895,\n",
       "  'Republican': 0.895,\n",
       "  'abbreviation': 'MI',\n",
       "  'delegates': 16},\n",
       " {'Democratic': 0.16499999999999998,\n",
       "  'Republican': 0.16999999999999998,\n",
       "  'abbreviation': 'MT',\n",
       "  'delegates': 3},\n",
       " {'Democratic': 0.11499999999999999,\n",
       "  'Republican': 0.11,\n",
       "  'abbreviation': 'MS',\n",
       "  'delegates': 6}]"
      ]
     },
     "execution_count": 211,
     "metadata": {},
     "output_type": "execute_result"
    }
   ],
   "source": [
    "def state (abbrev, delegates):\n",
    "    return {\n",
    "           \"abbreviation\": abbrev,\n",
    "           \"delegates\": delegates,\n",
    "           \"Democratic\": party_predictit(abbrev, 'Democratic'),\n",
    "           \"Republican\": party_predictit(abbrev, 'Republican'),\n",
    "           }\n",
    "\n",
    "states_delegates = {\n",
    "'AL':9,\n",
    "'AK':3,\n",
    "'AZ':11,\n",
    "'AR':6,\n",
    "'CA':55,\n",
    "'CO':9,\n",
    "'CT':7,\n",
    "'DC':3,\n",
    "'DE':3,\n",
    "'FL':29,\n",
    "'GA':16,\n",
    "'HI':4,\n",
    "'ID':4,\n",
    "'IL':20,\n",
    "'IN':11,\n",
    "'IA':6,\n",
    "'KS':6,\n",
    "'KY':8,\n",
    "'LA':8,\n",
    "'ME':4,\n",
    "'MD':10,\n",
    "'MA':11,\n",
    "'MI':16,\n",
    "'MN':10,\n",
    "'MS':6,\n",
    "'MO':10,\n",
    "'MT':3,\n",
    "'NE':5,\n",
    "'NV':6,\n",
    "'NH':4,\n",
    "'NJ':14,\n",
    "'NM':5,\n",
    "'NY':29,\n",
    "'NC':15,\n",
    "'ND':3,\n",
    "'OH':18,\n",
    "'OK':7,\n",
    "'OR':7,\n",
    "'PA':20,\n",
    "'RI':4,\n",
    "'SC':9,\n",
    "'SD':3,\n",
    "'TN':11,\n",
    "'TX':38,\n",
    "'UT':6,\n",
    "'VT':3,\n",
    "'VA':13,\n",
    "'WA':12,\n",
    "'WV':5,\n",
    "'WI':10,\n",
    "'WY':3,\n",
    "}\n",
    "\n",
    "states = [state(key,val) for key, val in states_delegates.iteritems()]\n",
    "states\n"
   ]
  },
  {
   "cell_type": "code",
   "execution_count": 134,
   "metadata": {
    "autoscroll": "json-false",
    "collapsed": false,
    "ein.tags": [
     "worksheet-0"
    ],
    "slideshow": {
     "slide_type": "-"
    }
   },
   "outputs": [
    {
     "data": {
      "text/plain": [
       "True"
      ]
     },
     "execution_count": 134,
     "metadata": {},
     "output_type": "execute_result"
    }
   ],
   "source": [
    "# sanity check - do delegates add up to fivethirtyeight?\n",
    "538 == sum([val for key, val in states_delegates.iteritems()])\n"
   ]
  },
  {
   "cell_type": "code",
   "execution_count": 221,
   "metadata": {
    "autoscroll": "json-false",
    "collapsed": false,
    "ein.tags": [
     "worksheet-0"
    ],
    "slideshow": {
     "slide_type": "-"
    }
   },
   "outputs": [
    {
     "data": {
      "text/plain": [
       "0.98637"
      ]
     },
     "execution_count": 221,
     "metadata": {},
     "output_type": "execute_result"
    }
   ],
   "source": [
    "import random\n",
    "from functools import partial\n",
    "        \n",
    "def win (probability):\n",
    "    return random.random()<probability\n",
    "    \n",
    "def allocate_delegates (party, state):\n",
    "    '''\n",
    "    Simulates an election in the state.\n",
    "    Uses probabilty derived from `party`\n",
    "    Returns a number of delegates allocated to dems (0 if party loss).\n",
    "    '''\n",
    "    return state['delegates'] * win(state[party]) #get_in(state,party))\n",
    "\n",
    "#allocate_delegates(states[0], 'Democratic')\n",
    "\n",
    "# percent over 270?\n",
    "def winning (delegates):\n",
    "    return delegates >= 270\n",
    "\n",
    "def hold_election (party):\n",
    "    return lambda _:  sum(map(partial(allocate_delegates, party), states))\n",
    "\n",
    "def simulate (party, trials):\n",
    "    return map(hold_election(party), range(trials))\n",
    "    \n",
    "# do trials on both republican and democratic markets\n",
    "num_trials = 100000\n",
    "simulations = simulate('Republican', num_trials) + simulate('Democratic', num_trials)\n",
    "float(len(filter(winning, simulations)))/float(num_trials*2)\n"
   ]
  },
  {
   "cell_type": "code",
   "execution_count": 222,
   "metadata": {
    "autoscroll": "json-false",
    "collapsed": false,
    "ein.tags": [
     "worksheet-0"
    ],
    "slideshow": {
     "slide_type": "-"
    }
   },
   "outputs": [
    {
     "data": {
      "text/plain": [
       "<matplotlib.lines.Line2D at 0x1147175d0>"
      ]
     },
     "execution_count": 222,
     "metadata": {},
     "output_type": "execute_result"
    },
    {
     "data": {
      "image/png": "[encoded data removed]",
      "text/plain": [
       "<matplotlib.figure.Figure at 0x114717290>"
      ]
     },
     "metadata": {},
     "output_type": "display_data"
    }
   ],
   "source": [
    "plt.hist(simulations, 50, normed=1, facecolor='green', alpha=0.75)\n",
    "plt.axvline(x=279)\n"
   ]
  }
 ],
 "metadata": {
  "kernelspec": {
   "display_name": "Python 2",
   "language": "python",
   "name": "python2"
  },
  "language_info": {
   "codemirror_mode": {
    "name": "ipython",
    "version": 2
   },
   "file_extension": ".py",
   "mimetype": "text/x-python",
   "name": "python",
   "nbconvert_exporter": "python",
   "pygments_lexer": "ipython2",
   "version": "2.7.11"
  },
  "name": "market-forecasts.ipynb"
 },
 "nbformat": 4,
 "nbformat_minor": 1
}
