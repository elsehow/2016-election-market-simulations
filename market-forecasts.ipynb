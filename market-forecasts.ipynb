{
 "cells": [
  {
   "cell_type": "code",
   "execution_count": 1,
   "metadata": {
    "autoscroll": "json-false",
    "collapsed": false,
    "ein.tags": [
     "worksheet-0"
    ],
    "slideshow": {
     "slide_type": "-"
    }
   },
   "outputs": [
    {
     "name": "stdout",
     "output_type": "stream",
     "text": [
      "Requirement already satisfied (use --upgrade to upgrade): requests in /usr/local/lib/python2.7/site-packages\r\n"
     ]
    }
   ],
   "source": [
    "!pip install requests"
   ]
  },
  {
   "cell_type": "code",
   "execution_count": 136,
   "metadata": {
    "autoscroll": "json-false",
    "collapsed": false,
    "ein.tags": [
     "worksheet-0"
    ],
    "slideshow": {
     "slide_type": "-"
    }
   },
   "outputs": [
    {
     "name": "stdout",
     "output_type": "stream",
     "text": [
      "Populating the interactive namespace from numpy and matplotlib\n"
     ]
    }
   ],
   "source": [
    "%pylab inline"
   ]
  },
  {
   "cell_type": "code",
   "execution_count": 13,
   "metadata": {
    "autoscroll": "json-false",
    "collapsed": true,
    "ein.tags": [
     "worksheet-0"
    ],
    "slideshow": {
     "slide_type": "-"
    }
   },
   "outputs": [
    {
     "data": {
      "text/plain": [
       "{u'Contracts': [{u'BestBuyNoCost': None,\n",
       "   u'BestBuyYesCost': None,\n",
       "   u'BestSellNoCost': None,\n",
       "   u'BestSellYesCost': None,\n",
       "   u'DateEnd': u'2016-09-15T00:00:00',\n",
       "   u'ID': 838,\n",
       "   u'Image': u'https://az620379.vo.msecnd.net/images/Contracts/small_243e34f4-df9f-4e80-9e61-9db22d2d5839.jpg',\n",
       "   u'LastClosePrice': 0.99,\n",
       "   u'LastTradePrice': 0.99,\n",
       "   u'LongName': u'Will Donald Trump win the 2016 Republican presidential nomination?',\n",
       "   u'Name': u'Donald Trump',\n",
       "   u'ShortName': u'Trump',\n",
       "   u'Status': u'Closed',\n",
       "   u'TickerSymbol': u'TRUMP.RNOM16',\n",
       "   u'URL': u'https://www.PredictIt.org/Contract/838/Will-Donald-Trump-win-the-2016-Republican-presidential-nomination'},\n",
       "  {u'BestBuyNoCost': None,\n",
       "   u'BestBuyYesCost': None,\n",
       "   u'BestSellNoCost': None,\n",
       "   u'BestSellYesCost': None,\n",
       "   u'DateEnd': u'2016-09-15T00:00:00',\n",
       "   u'ID': 438,\n",
       "   u'Image': u'https://az620379.vo.msecnd.net/images/Contracts/small_1b2989b5-36f4-40eb-9261-d497684c79a0.jpg',\n",
       "   u'LastClosePrice': 0.01,\n",
       "   u'LastTradePrice': 0.01,\n",
       "   u'LongName': u'Will Marco Rubio win the 2016 Republican presidential nomination? ',\n",
       "   u'Name': u'Marco Rubio',\n",
       "   u'ShortName': u'Rubio',\n",
       "   u'Status': u'Closed',\n",
       "   u'TickerSymbol': u'RUBIO.RNOM16',\n",
       "   u'URL': u'https://www.PredictIt.org/Contract/438/Will-Marco-Rubio-win-the-2016-Republican-presidential-nomination'},\n",
       "  {u'BestBuyNoCost': None,\n",
       "   u'BestBuyYesCost': None,\n",
       "   u'BestSellNoCost': None,\n",
       "   u'BestSellYesCost': None,\n",
       "   u'DateEnd': u'2016-09-15T00:00:00',\n",
       "   u'ID': 439,\n",
       "   u'Image': u'https://az620379.vo.msecnd.net/images/Contracts/small_bca4a384-3106-4047-b477-1886f381f633.jpg',\n",
       "   u'LastClosePrice': 0.01,\n",
       "   u'LastTradePrice': 0.01,\n",
       "   u'LongName': u'Will Jeb Bush win the 2016 Republican presidential nomination? ',\n",
       "   u'Name': u'Jeb Bush',\n",
       "   u'ShortName': u'Bush',\n",
       "   u'Status': u'Closed',\n",
       "   u'TickerSymbol': u'BUSH.RNOM16',\n",
       "   u'URL': u'https://www.PredictIt.org/Contract/439/Will-Jeb-Bush-win-the-2016-Republican-presidential-nomination'},\n",
       "  {u'BestBuyNoCost': None,\n",
       "   u'BestBuyYesCost': None,\n",
       "   u'BestSellNoCost': None,\n",
       "   u'BestSellYesCost': None,\n",
       "   u'DateEnd': u'2016-09-15T00:00:00',\n",
       "   u'ID': 440,\n",
       "   u'Image': u'https://az620379.vo.msecnd.net/images/Contracts/small_091c8873-44fc-4d22-a95c-d584d413917a.jpg',\n",
       "   u'LastClosePrice': 0.01,\n",
       "   u'LastTradePrice': 0.01,\n",
       "   u'LongName': u'Will Rand Paul win the 2016 Republican presidential nomination? ',\n",
       "   u'Name': u'Rand Paul',\n",
       "   u'ShortName': u'Paul',\n",
       "   u'Status': u'Closed',\n",
       "   u'TickerSymbol': u'PAUL.RNOM16',\n",
       "   u'URL': u'https://www.PredictIt.org/Contract/440/Will-Rand-Paul-win-the-2016-Republican-presidential-nomination'},\n",
       "  {u'BestBuyNoCost': None,\n",
       "   u'BestBuyYesCost': None,\n",
       "   u'BestSellNoCost': None,\n",
       "   u'BestSellYesCost': None,\n",
       "   u'DateEnd': u'2016-09-15T00:00:00',\n",
       "   u'ID': 441,\n",
       "   u'Image': u'https://az620379.vo.msecnd.net/images/Contracts/small_27ab96e8-f667-4325-b91c-9d18ba734831.jpg',\n",
       "   u'LastClosePrice': 0.01,\n",
       "   u'LastTradePrice': 0.01,\n",
       "   u'LongName': u'Will Chris Christie win the 2016 Republican presidential nomination? ',\n",
       "   u'Name': u'Chris Christie',\n",
       "   u'ShortName': u'Christie',\n",
       "   u'Status': u'Closed',\n",
       "   u'TickerSymbol': u'CHRISTIE.RNOM16',\n",
       "   u'URL': u'https://www.PredictIt.org/Contract/441/Will-Chris-Christie-win-the-2016-Republican-presidential-nomination'},\n",
       "  {u'BestBuyNoCost': None,\n",
       "   u'BestBuyYesCost': None,\n",
       "   u'BestSellNoCost': None,\n",
       "   u'BestSellYesCost': None,\n",
       "   u'DateEnd': u'2016-09-15T00:00:00',\n",
       "   u'ID': 442,\n",
       "   u'Image': u'https://az620379.vo.msecnd.net/images/Contracts/small_7fc4664e-fd2b-4a34-b9d5-6078fd53ef7b.jpg',\n",
       "   u'LastClosePrice': 0.01,\n",
       "   u'LastTradePrice': 0.01,\n",
       "   u'LongName': u'Will Scott Walker win the 2016 Republican presidential nomination? ',\n",
       "   u'Name': u'Scott Walker',\n",
       "   u'ShortName': u'Walker',\n",
       "   u'Status': u'Closed',\n",
       "   u'TickerSymbol': u'WALKER.RNOM16',\n",
       "   u'URL': u'https://www.PredictIt.org/Contract/442/Will-Scott-Walker-win-the-2016-Republican-presidential-nomination'},\n",
       "  {u'BestBuyNoCost': None,\n",
       "   u'BestBuyYesCost': None,\n",
       "   u'BestSellNoCost': None,\n",
       "   u'BestSellYesCost': None,\n",
       "   u'DateEnd': u'2016-09-15T00:00:00',\n",
       "   u'ID': 443,\n",
       "   u'Image': u'https://az620379.vo.msecnd.net/images/Contracts/small_787e1531-be04-4218-a6cc-c0062b048f1f.jpg',\n",
       "   u'LastClosePrice': 0.01,\n",
       "   u'LastTradePrice': 0.01,\n",
       "   u'LongName': u'Will Sarah Palin win the 2016 Republican presidential nomination? ',\n",
       "   u'Name': u'Sarah Palin',\n",
       "   u'ShortName': u'Palin',\n",
       "   u'Status': u'Closed',\n",
       "   u'TickerSymbol': u'PALIN.RNOM16',\n",
       "   u'URL': u'https://www.PredictIt.org/Contract/443/Will-Sarah-Palin-win-the-2016-Republican-presidential-nomination'},\n",
       "  {u'BestBuyNoCost': None,\n",
       "   u'BestBuyYesCost': None,\n",
       "   u'BestSellNoCost': None,\n",
       "   u'BestSellYesCost': None,\n",
       "   u'DateEnd': u'2016-09-15T00:00:00',\n",
       "   u'ID': 484,\n",
       "   u'Image': u'https://az620379.vo.msecnd.net/images/Contracts/small_3b11f576-1a19-4301-91bc-8130ffc77d82.jpg',\n",
       "   u'LastClosePrice': 0.01,\n",
       "   u'LastTradePrice': 0.01,\n",
       "   u'LongName': u'Will Mitt Romney win the 2016 Republican presidential nomination? ',\n",
       "   u'Name': u'Mitt Romney',\n",
       "   u'ShortName': u'Romney',\n",
       "   u'Status': u'Closed',\n",
       "   u'TickerSymbol': u'ROMNEY.RNOM16',\n",
       "   u'URL': u'https://www.PredictIt.org/Contract/484/Will-Mitt-Romney-win-the-2016-Republican-presidential-nomination'},\n",
       "  {u'BestBuyNoCost': None,\n",
       "   u'BestBuyYesCost': None,\n",
       "   u'BestSellNoCost': None,\n",
       "   u'BestSellYesCost': None,\n",
       "   u'DateEnd': u'2016-09-15T00:00:00',\n",
       "   u'ID': 507,\n",
       "   u'Image': u'https://az620379.vo.msecnd.net/images/Contracts/small_23429e63-5768-4580-9b79-7aeea3064938.jpg',\n",
       "   u'LastClosePrice': 0.01,\n",
       "   u'LastTradePrice': 0.01,\n",
       "   u'LongName': u'Will Lindsey Graham win the 2016 Republican presidential nomination? ',\n",
       "   u'Name': u'Lindsey Graham',\n",
       "   u'ShortName': u'Graham',\n",
       "   u'Status': u'Closed',\n",
       "   u'TickerSymbol': u'GRAHAM.RNOM16',\n",
       "   u'URL': u'https://www.PredictIt.org/Contract/507/Will-Lindsey-Graham-win-the-2016-Republican-presidential-nomination'},\n",
       "  {u'BestBuyNoCost': None,\n",
       "   u'BestBuyYesCost': None,\n",
       "   u'BestSellNoCost': None,\n",
       "   u'BestSellYesCost': None,\n",
       "   u'DateEnd': u'2016-09-15T00:00:00',\n",
       "   u'ID': 508,\n",
       "   u'Image': u'https://az620379.vo.msecnd.net/images/Contracts/small_4d58649b-4a38-4d9b-a784-ce546eb9fc17.jpg',\n",
       "   u'LastClosePrice': 0.01,\n",
       "   u'LastTradePrice': 0.01,\n",
       "   u'LongName': u'Will Mike Huckabee win the 2016 Republican presidential nomination? ',\n",
       "   u'Name': u'Mike Huckabee',\n",
       "   u'ShortName': u'Huckabee',\n",
       "   u'Status': u'Closed',\n",
       "   u'TickerSymbol': u'HUCKABEE.RNOM16',\n",
       "   u'URL': u'https://www.PredictIt.org/Contract/508/Will-Mike-Huckabee-win-the-2016-Republican-presidential-nomination'},\n",
       "  {u'BestBuyNoCost': None,\n",
       "   u'BestBuyYesCost': None,\n",
       "   u'BestSellNoCost': None,\n",
       "   u'BestSellYesCost': None,\n",
       "   u'DateEnd': u'2016-09-15T00:00:00',\n",
       "   u'ID': 509,\n",
       "   u'Image': u'https://az620379.vo.msecnd.net/images/Contracts/small_3f355b6e-9db6-4edb-95b4-799bc16699a3.jpg',\n",
       "   u'LastClosePrice': 0.01,\n",
       "   u'LastTradePrice': 0.01,\n",
       "   u'LongName': u'Will Ted Cruz win the 2016 Republican presidential nomination? ',\n",
       "   u'Name': u'Ted Cruz',\n",
       "   u'ShortName': u'Cruz',\n",
       "   u'Status': u'Closed',\n",
       "   u'TickerSymbol': u'CRUZ.RNOM16',\n",
       "   u'URL': u'https://www.PredictIt.org/Contract/509/Will-Ted-Cruz-win-the-2016-Republican-presidential-nomination'},\n",
       "  {u'BestBuyNoCost': None,\n",
       "   u'BestBuyYesCost': None,\n",
       "   u'BestSellNoCost': None,\n",
       "   u'BestSellYesCost': None,\n",
       "   u'DateEnd': u'2016-09-15T00:00:00',\n",
       "   u'ID': 525,\n",
       "   u'Image': u'https://az620379.vo.msecnd.net/images/Contracts/small_52dfa9b2-00bf-4af4-b1cf-eb143c9f5423.jpg',\n",
       "   u'LastClosePrice': 0.01,\n",
       "   u'LastTradePrice': 0.01,\n",
       "   u'LongName': u'Will Bobby Jindal win the 2016 Republican presidential nomination? ',\n",
       "   u'Name': u'Bobby Jindal',\n",
       "   u'ShortName': u'Jindal',\n",
       "   u'Status': u'Closed',\n",
       "   u'TickerSymbol': u'JINDAL.RNOM16',\n",
       "   u'URL': u'https://www.PredictIt.org/Contract/525/Will-Bobby-Jindal-win-the-2016-Republican-presidential-nomination'},\n",
       "  {u'BestBuyNoCost': None,\n",
       "   u'BestBuyYesCost': None,\n",
       "   u'BestSellNoCost': None,\n",
       "   u'BestSellYesCost': None,\n",
       "   u'DateEnd': u'2016-09-15T00:00:00',\n",
       "   u'ID': 526,\n",
       "   u'Image': u'https://az620379.vo.msecnd.net/images/Contracts/small_f23cd902-da19-4752-999d-1f1cfeb1f21b.jpg',\n",
       "   u'LastClosePrice': 0.01,\n",
       "   u'LastTradePrice': 0.01,\n",
       "   u'LongName': u'Will Rick Perry win the 2016 Republican presidential nomination? ',\n",
       "   u'Name': u'Rick Perry',\n",
       "   u'ShortName': u'Perry',\n",
       "   u'Status': u'Closed',\n",
       "   u'TickerSymbol': u'PERRY.RNOM16',\n",
       "   u'URL': u'https://www.PredictIt.org/Contract/526/Will-Rick-Perry-win-the-2016-Republican-presidential-nomination'},\n",
       "  {u'BestBuyNoCost': None,\n",
       "   u'BestBuyYesCost': None,\n",
       "   u'BestSellNoCost': None,\n",
       "   u'BestSellYesCost': None,\n",
       "   u'DateEnd': u'2016-09-15T00:00:00',\n",
       "   u'ID': 527,\n",
       "   u'Image': u'https://az620379.vo.msecnd.net/images/Contracts/small_6f5ea764-029e-461e-bce0-87a5d6432a64.jpg',\n",
       "   u'LastClosePrice': 0.01,\n",
       "   u'LastTradePrice': 0.01,\n",
       "   u'LongName': u'Will Rick Santorum win the 2016 Republican presidential nomination? ',\n",
       "   u'Name': u'Rick Santorum',\n",
       "   u'ShortName': u'Santorum',\n",
       "   u'Status': u'Closed',\n",
       "   u'TickerSymbol': u'SANTORUM.RNOM16',\n",
       "   u'URL': u'https://www.PredictIt.org/Contract/527/Will-Rick-Santorum-win-the-2016-Republican-presidential-nomination'},\n",
       "  {u'BestBuyNoCost': None,\n",
       "   u'BestBuyYesCost': None,\n",
       "   u'BestSellNoCost': None,\n",
       "   u'BestSellYesCost': None,\n",
       "   u'DateEnd': u'2016-09-15T00:00:00',\n",
       "   u'ID': 539,\n",
       "   u'Image': u'https://az620379.vo.msecnd.net/images/Contracts/small_b50716ea-0532-4cab-a593-273ef5bf922b.jpg',\n",
       "   u'LastClosePrice': 0.01,\n",
       "   u'LastTradePrice': 0.01,\n",
       "   u'LongName': u'Will John Kasich win the 2016 Republican presidential nomination? ',\n",
       "   u'Name': u'John Kasich',\n",
       "   u'ShortName': u'Kasich',\n",
       "   u'Status': u'Closed',\n",
       "   u'TickerSymbol': u'KASICH.RNOM16',\n",
       "   u'URL': u'https://www.PredictIt.org/Contract/539/Will-John-Kasich-win-the-2016-Republican-presidential-nomination'},\n",
       "  {u'BestBuyNoCost': None,\n",
       "   u'BestBuyYesCost': None,\n",
       "   u'BestSellNoCost': None,\n",
       "   u'BestSellYesCost': None,\n",
       "   u'DateEnd': u'2016-09-15T00:00:00',\n",
       "   u'ID': 563,\n",
       "   u'Image': u'https://az620379.vo.msecnd.net/images/Contracts/small_f3f86b58-05e2-4706-9296-d1d7b5d6c22f.jpg',\n",
       "   u'LastClosePrice': 0.01,\n",
       "   u'LastTradePrice': 0.01,\n",
       "   u'LongName': u'Will Paul Ryan win the 2016 Republican presidential nomination? ',\n",
       "   u'Name': u'Paul Ryan',\n",
       "   u'ShortName': u'Ryan',\n",
       "   u'Status': u'Closed',\n",
       "   u'TickerSymbol': u'RYAN.RNOM16',\n",
       "   u'URL': u'https://www.PredictIt.org/Contract/563/Will-Paul-Ryan-win-the-2016-Republican-presidential-nomination'},\n",
       "  {u'BestBuyNoCost': None,\n",
       "   u'BestBuyYesCost': None,\n",
       "   u'BestSellNoCost': None,\n",
       "   u'BestSellYesCost': None,\n",
       "   u'DateEnd': u'2016-09-15T00:00:00',\n",
       "   u'ID': 564,\n",
       "   u'Image': u'https://az620379.vo.msecnd.net/images/Contracts/small_419d44bf-3707-4a89-9abd-472e284463ed.jpg',\n",
       "   u'LastClosePrice': 0.01,\n",
       "   u'LastTradePrice': 0.01,\n",
       "   u'LongName': u'Will Susana Martinez win the 2016 Republican presidential nomination? ',\n",
       "   u'Name': u'Susana Martinez',\n",
       "   u'ShortName': u'Martinez',\n",
       "   u'Status': u'Closed',\n",
       "   u'TickerSymbol': u'MARTINEZ.RNOM16',\n",
       "   u'URL': u'https://www.PredictIt.org/Contract/564/Will-Susana-Martinez-win-the-2016-Republican-presidential-nomination'},\n",
       "  {u'BestBuyNoCost': None,\n",
       "   u'BestBuyYesCost': None,\n",
       "   u'BestSellNoCost': None,\n",
       "   u'BestSellYesCost': None,\n",
       "   u'DateEnd': u'2016-09-15T00:00:00',\n",
       "   u'ID': 565,\n",
       "   u'Image': u'https://az620379.vo.msecnd.net/images/Contracts/small_70be1d0d-df11-4be4-8e98-7dc35b30fb1a.jpg',\n",
       "   u'LastClosePrice': 0.01,\n",
       "   u'LastTradePrice': 0.01,\n",
       "   u'LongName': u'Will Ben Carson win the 2016 Republican presidential nomination? ',\n",
       "   u'Name': u'Ben Carson',\n",
       "   u'ShortName': u'Carson',\n",
       "   u'Status': u'Closed',\n",
       "   u'TickerSymbol': u'CARSON.RNOM16',\n",
       "   u'URL': u'https://www.PredictIt.org/Contract/565/Will-Ben-Carson-win-the-2016-Republican-presidential-nomination'},\n",
       "  {u'BestBuyNoCost': None,\n",
       "   u'BestBuyYesCost': None,\n",
       "   u'BestSellNoCost': None,\n",
       "   u'BestSellYesCost': None,\n",
       "   u'DateEnd': u'2016-09-15T00:00:00',\n",
       "   u'ID': 566,\n",
       "   u'Image': u'https://az620379.vo.msecnd.net/images/Contracts/small_38142dd1-731c-4c6a-88bb-2e2b45ac92a6.jpg',\n",
       "   u'LastClosePrice': 0.01,\n",
       "   u'LastTradePrice': 0.01,\n",
       "   u'LongName': u'Will Mike Pence win the 2016 Republican presidential nomination? ',\n",
       "   u'Name': u'Mike Pence',\n",
       "   u'ShortName': u'Pence',\n",
       "   u'Status': u'Closed',\n",
       "   u'TickerSymbol': u'PENCE.RNOM16',\n",
       "   u'URL': u'https://www.PredictIt.org/Contract/566/Will-Mike-Pence-win-the-2016-Republican-presidential-nomination'},\n",
       "  {u'BestBuyNoCost': None,\n",
       "   u'BestBuyYesCost': None,\n",
       "   u'BestSellNoCost': None,\n",
       "   u'BestSellYesCost': None,\n",
       "   u'DateEnd': u'2016-09-15T00:00:00',\n",
       "   u'ID': 716,\n",
       "   u'Image': u'https://az620379.vo.msecnd.net/images/Contracts/small_f6d4c371-1a77-47f5-ab3b-c3ef147357aa.jpg',\n",
       "   u'LastClosePrice': 0.01,\n",
       "   u'LastTradePrice': 0.01,\n",
       "   u'LongName': u'Will Carly Fiorina win the 2016 Republican presidential nomination?',\n",
       "   u'Name': u'Carly Fiorina',\n",
       "   u'ShortName': u'Fiorina',\n",
       "   u'Status': u'Closed',\n",
       "   u'TickerSymbol': u'FIORINA.RNOM16',\n",
       "   u'URL': u'https://www.PredictIt.org/Contract/716/Will-Carly-Fiorina-win-the-2016-Republican-presidential-nomination'},\n",
       "  {u'BestBuyNoCost': None,\n",
       "   u'BestBuyYesCost': None,\n",
       "   u'BestSellNoCost': None,\n",
       "   u'BestSellYesCost': None,\n",
       "   u'DateEnd': u'2016-09-15T00:00:00',\n",
       "   u'ID': 787,\n",
       "   u'Image': u'https://az620379.vo.msecnd.net/images/Contracts/small_3a1fe37f-494c-425e-aa33-fdd98ab79abb.jpg',\n",
       "   u'LastClosePrice': 0.01,\n",
       "   u'LastTradePrice': 0.01,\n",
       "   u'LongName': u'Will George Pataki win the 2016 Republican presidential nomination?',\n",
       "   u'Name': u'George Pataki',\n",
       "   u'ShortName': u'Pataki',\n",
       "   u'Status': u'Closed',\n",
       "   u'TickerSymbol': u'PATAKI.RNOM16',\n",
       "   u'URL': u'https://www.PredictIt.org/Contract/787/Will-George-Pataki-win-the-2016-Republican-presidential-nomination'}],\n",
       " u'ID': 1233,\n",
       " u'Image': u'https://az620379.vo.msecnd.net/images/Markets/e2ec1b47-88d6-4b52-a35e-72ab3b48477e.png',\n",
       " u'Name': u'Who will win the 2016 Republican presidential nomination?',\n",
       " u'ShortName': u'Who will win the 2016 Republican presidential nomination?',\n",
       " u'Status': u'Closed',\n",
       " u'TickerSymbol': u'RNOM16',\n",
       " u'TimeStamp': u'2016-10-14T19:19:20.0508712',\n",
       " u'URL': u'https://www.PredictIt.org/Market/1233/Who-will-win-the-2016-Republican-presidential-nomination'}"
      ]
     },
     "execution_count": 13,
     "metadata": {},
     "output_type": "execute_result"
    }
   ],
   "source": [
    "import requests \n",
    "import json\n",
    "\n",
    "def request_json (url):\n",
    "    return json.loads(\n",
    "           requests.get(url, headers={\n",
    "            'Accept':'application/json'}).content)\n",
    "\n",
    "my_url = 'https://www.predictit.org/api/marketdata/ticker/RNOM16'\n",
    "request_json(url)"
   ]
  },
  {
   "cell_type": "code",
   "execution_count": 35,
   "metadata": {
    "autoscroll": "json-false",
    "collapsed": false,
    "ein.tags": [
     "worksheet-0"
    ],
    "slideshow": {
     "slide_type": "-"
    }
   },
   "outputs": [
    {
     "data": {
      "text/plain": [
       "0.955"
      ]
     },
     "execution_count": 35,
     "metadata": {},
     "output_type": "execute_result"
    }
   ],
   "source": [
    "def predictit (ticker):\n",
    "    return request_json('https://www.predictit.org/api/marketdata/ticker/' + ticker)\n",
    "\n",
    "def dem_predictit (state_abbreviation):\n",
    "    market = predictit('DEM.'+state_abbreviation+'.USPREZ16')\n",
    "    def is_dem (contract):\n",
    "        return contract['ShortName'] == 'Democratic'\n",
    "    contracts = market['Contracts']\n",
    "    dems = filter(is_dem, contracts)[0]\n",
    "    def average_yes (contract):\n",
    "        return (contract['BestBuyYesCost'] + contract['BestSellYesCost'])/2\n",
    "    return average_yes(dems)\n",
    "\n",
    "dem_predictit('CA')\n"
   ]
  },
  {
   "cell_type": "code",
   "execution_count": 39,
   "metadata": {
    "autoscroll": "json-false",
    "collapsed": true,
    "ein.tags": [
     "worksheet-0"
    ],
    "slideshow": {
     "slide_type": "-"
    }
   },
   "outputs": [
    {
     "data": {
      "text/plain": [
       "[{'abbreviation': 'WA', 'delegates': 12, 'dem-probability': 0.95},\n",
       " {'abbreviation': 'WI', 'delegates': 10, 'dem-probability': 0.88},\n",
       " {'abbreviation': 'WV',\n",
       "  'delegates': 5,\n",
       "  'dem-probability': 0.05500000000000001},\n",
       " {'abbreviation': 'FL', 'delegates': 29, 'dem-probability': 0.795},\n",
       " {'abbreviation': 'WY', 'delegates': 3, 'dem-probability': 0.08},\n",
       " {'abbreviation': 'NH', 'delegates': 4, 'dem-probability': 0.865},\n",
       " {'abbreviation': 'NJ', 'delegates': 14, 'dem-probability': 0.945},\n",
       " {'abbreviation': 'NM', 'delegates': 5, 'dem-probability': 0.895},\n",
       " {'abbreviation': 'NC', 'delegates': 15, 'dem-probability': 0.785},\n",
       " {'abbreviation': 'ND', 'delegates': 3, 'dem-probability': 0.125},\n",
       " {'abbreviation': 'NE', 'delegates': 5, 'dem-probability': 0.1},\n",
       " {'abbreviation': 'NY', 'delegates': 29, 'dem-probability': 0.945},\n",
       " {'abbreviation': 'RI', 'delegates': 4, 'dem-probability': 0.94},\n",
       " {'abbreviation': 'NV', 'delegates': 6, 'dem-probability': 0.78},\n",
       " {'abbreviation': 'CO', 'delegates': 9, 'dem-probability': 0.875},\n",
       " {'abbreviation': 'CA', 'delegates': 55, 'dem-probability': 0.955},\n",
       " {'abbreviation': 'GA', 'delegates': 16, 'dem-probability': 0.365},\n",
       " {'abbreviation': 'CT', 'delegates': 7, 'dem-probability': 0.95},\n",
       " {'abbreviation': 'OK', 'delegates': 7, 'dem-probability': 0.09},\n",
       " {'abbreviation': 'OH',\n",
       "  'delegates': 18,\n",
       "  'dem-probability': 0.6799999999999999},\n",
       " {'abbreviation': 'KS', 'delegates': 6, 'dem-probability': 0.14},\n",
       " {'abbreviation': 'SC',\n",
       "  'delegates': 9,\n",
       "  'dem-probability': 0.22999999999999998},\n",
       " {'abbreviation': 'KY', 'delegates': 8, 'dem-probability': 0.09},\n",
       " {'abbreviation': 'OR', 'delegates': 7, 'dem-probability': 0.94},\n",
       " {'abbreviation': 'SD', 'delegates': 3, 'dem-probability': 0.155},\n",
       " {'abbreviation': 'DE', 'delegates': 3, 'dem-probability': 0.955},\n",
       " {'abbreviation': 'DC', 'delegates': 3, 'dem-probability': 0.975},\n",
       " {'abbreviation': 'HI', 'delegates': 4, 'dem-probability': 0.965},\n",
       " {'abbreviation': 'TX',\n",
       "  'delegates': 38,\n",
       "  'dem-probability': 0.22999999999999998},\n",
       " {'abbreviation': 'LA',\n",
       "  'delegates': 8,\n",
       "  'dem-probability': 0.10500000000000001},\n",
       " {'abbreviation': 'TN', 'delegates': 11, 'dem-probability': 0.085},\n",
       " {'abbreviation': 'PA', 'delegates': 20, 'dem-probability': 0.875},\n",
       " {'abbreviation': 'VA', 'delegates': 13, 'dem-probability': 0.925},\n",
       " {'abbreviation': 'AK', 'delegates': 3, 'dem-probability': 0.24},\n",
       " {'abbreviation': 'AL', 'delegates': 9, 'dem-probability': 0.075},\n",
       " {'abbreviation': 'AR', 'delegates': 6, 'dem-probability': 0.11},\n",
       " {'abbreviation': 'VT', 'delegates': 3, 'dem-probability': 0.95},\n",
       " {'abbreviation': 'IL', 'delegates': 20, 'dem-probability': 0.945},\n",
       " {'abbreviation': 'IN', 'delegates': 11, 'dem-probability': 0.245},\n",
       " {'abbreviation': 'IA', 'delegates': 6, 'dem-probability': 0.625},\n",
       " {'abbreviation': 'AZ', 'delegates': 11, 'dem-probability': 0.55},\n",
       " {'abbreviation': 'ID', 'delegates': 4, 'dem-probability': 0.095},\n",
       " {'abbreviation': 'ME', 'delegates': 4, 'dem-probability': 0.89},\n",
       " {'abbreviation': 'MD', 'delegates': 10, 'dem-probability': 0.965},\n",
       " {'abbreviation': 'MA', 'delegates': 11, 'dem-probability': 0.96},\n",
       " {'abbreviation': 'UT', 'delegates': 6, 'dem-probability': 0.245},\n",
       " {'abbreviation': 'MO',\n",
       "  'delegates': 10,\n",
       "  'dem-probability': 0.22999999999999998},\n",
       " {'abbreviation': 'MN', 'delegates': 10, 'dem-probability': 0.915},\n",
       " {'abbreviation': 'MI', 'delegates': 16, 'dem-probability': 0.895},\n",
       " {'abbreviation': 'MT',\n",
       "  'delegates': 3,\n",
       "  'dem-probability': 0.16499999999999998},\n",
       " {'abbreviation': 'MS', 'delegates': 6, 'dem-probability': 0.125}]"
      ]
     },
     "execution_count": 39,
     "metadata": {},
     "output_type": "execute_result"
    }
   ],
   "source": [
    "def state (abbrev, delegates):\n",
    "    return {\n",
    "           \"abbreviation\": abbrev,\n",
    "           \"delegates\": delegates,\n",
    "           \"dem-probability\": dem_predictit(abbrev),\n",
    "           }\n",
    "\n",
    "states_delegates = {\n",
    "'AL':9,\n",
    "'AK':3,\n",
    "'AZ':11,\n",
    "'AR':6,\n",
    "'CA':55,\n",
    "'CO':9,\n",
    "'CT':7,\n",
    "'DC':3,\n",
    "'DE':3,\n",
    "'FL':29,\n",
    "'GA':16,\n",
    "'HI':4,\n",
    "'ID':4,\n",
    "'IL':20,\n",
    "'IN':11,\n",
    "'IA':6,\n",
    "'KS':6,\n",
    "'KY':8,\n",
    "'LA':8,\n",
    "'ME':4,\n",
    "'MD':10,\n",
    "'MA':11,\n",
    "'MI':16,\n",
    "'MN':10,\n",
    "'MS':6,\n",
    "'MO':10,\n",
    "'MT':3,\n",
    "'NE':5,\n",
    "'NV':6,\n",
    "'NH':4,\n",
    "'NJ':14,\n",
    "'NM':5,\n",
    "'NY':29,\n",
    "'NC':15,\n",
    "'ND':3,\n",
    "'OH':18,\n",
    "'OK':7,\n",
    "'OR':7,\n",
    "'PA':20,\n",
    "'RI':4,\n",
    "'SC':9,\n",
    "'SD':3,\n",
    "'TN':11,\n",
    "'TX':38,\n",
    "'UT':6,\n",
    "'VT':3,\n",
    "'VA':13,\n",
    "'WA':12,\n",
    "'WV':5,\n",
    "'WI':10,\n",
    "'WY':3,\n",
    "}\n",
    "\n",
    "states = [state(key,val) for key, val in states_delegates.iteritems()]\n",
    "states\n"
   ]
  },
  {
   "cell_type": "code",
   "execution_count": 134,
   "metadata": {
    "autoscroll": "json-false",
    "collapsed": false,
    "ein.tags": [
     "worksheet-0"
    ],
    "slideshow": {
     "slide_type": "-"
    }
   },
   "outputs": [
    {
     "data": {
      "text/plain": [
       "True"
      ]
     },
     "execution_count": 134,
     "metadata": {},
     "output_type": "execute_result"
    }
   ],
   "source": [
    "# sanity check - do delegates add up to fivethirtyeight?\n",
    "538 == sum([val for key, val in states_delegates.iteritems()])\n"
   ]
  },
  {
   "cell_type": "code",
   "execution_count": 119,
   "metadata": {
    "autoscroll": "json-false",
    "collapsed": false,
    "ein.tags": [
     "worksheet-0"
    ],
    "slideshow": {
     "slide_type": "-"
    }
   },
   "outputs": [
    {
     "data": {
      "text/plain": [
       "12"
      ]
     },
     "execution_count": 119,
     "metadata": {},
     "output_type": "execute_result"
    }
   ],
   "source": [
    "import random\n",
    "def win (probability):\n",
    "    return random.random()<probability\n",
    "    \n",
    "def allocate_delegates (state):\n",
    "    '''\n",
    "    Simulates an election in the state.\n",
    "    Returns a number of delegates allocated to dems (0 if dem loss).\n",
    "    '''\n",
    "    return state['delegates'] * win(state['dem-probability'])\n",
    "\n",
    "allocate_delegates(states[0])"
   ]
  },
  {
   "cell_type": "code",
   "execution_count": 155,
   "metadata": {
    "autoscroll": "json-false",
    "collapsed": false,
    "ein.tags": [
     "worksheet-0"
    ],
    "slideshow": {
     "slide_type": "-"
    }
   },
   "outputs": [
    {
     "data": {
      "text/plain": [
       "1000000"
      ]
     },
     "execution_count": 155,
     "metadata": {},
     "output_type": "execute_result"
    }
   ],
   "source": [
    "def hold_election (_):\n",
    "    return sum(map(allocate_delegates, states))\n",
    "\n",
    "simulations = map(hold_election, range(1000000))\n",
    "\n",
    "len(simulations)\n"
   ]
  },
  {
   "cell_type": "code",
   "execution_count": 158,
   "metadata": {
    "autoscroll": "json-false",
    "collapsed": false,
    "ein.tags": [
     "worksheet-0"
    ],
    "slideshow": {
     "slide_type": "-"
    }
   },
   "outputs": [
    {
     "data": {
      "text/plain": [
       "0.987564"
      ]
     },
     "execution_count": 158,
     "metadata": {},
     "output_type": "execute_result"
    }
   ],
   "source": [
    "# percent over 270?\n",
    "def winning (delegates):\n",
    "    return delegates >= 270\n",
    "\n",
    "len(filter(winning, simulations))/1000000.0\n"
   ]
  },
  {
   "cell_type": "code",
   "execution_count": 157,
   "metadata": {
    "autoscroll": "json-false",
    "collapsed": false,
    "ein.tags": [
     "worksheet-0"
    ],
    "slideshow": {
     "slide_type": "-"
    }
   },
   "outputs": [
    {
     "data": {
      "image/png": "[encoded data removed]",
      "text/plain": [
       "<matplotlib.figure.Figure at 0x112003d10>"
      ]
     },
     "metadata": {},
     "output_type": "display_data"
    },
    {
     "data": {
      "text/plain": [
       "<matplotlib.lines.Line2D at 0x111d00ad0>"
      ]
     },
     "execution_count": 157,
     "metadata": {},
     "output_type": "execute_result"
    }
   ],
   "source": [
    "plt.hist(simulations, 50, normed=1, facecolor='green', alpha=0.75)\n",
    "plt.axvline(x=279)\n"
   ]
  }
 ],
 "metadata": {
  "kernelspec": {
   "display_name": "Python 2",
   "name": "python2"
  },
  "language_info": {
   "codemirror_mode": {
    "name": "ipython",
    "version": 2
   },
   "file_extension": ".py",
   "mimetype": "text/x-python",
   "name": "python",
   "nbconvert_exporter": "python",
   "pygments_lexer": "ipython2",
   "version": "2.7.11"
  },
  "name": "market-forecasts.ipynb"
 },
 "nbformat": 4,
 "nbformat_minor": 1
}
