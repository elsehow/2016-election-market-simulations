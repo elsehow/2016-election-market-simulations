{
 "cells": [
  {
   "cell_type": "markdown",
   "metadata": {
    "ein.tags": [
     "worksheet-0"
    ],
    "slideshow": {
     "slide_type": "-"
    }
   },
   "source": [
    "# Are national betting markets efficient with respect to state-level betting markets?\n",
    "\n",
    "PredictIt has several prediction markets [for the general election](https://www.predictit.org/Browse/Group/67/National). However, PredictIt also has a market for the election outcome in every state.\n",
    "\n",
    "If we took each state's prediction market, and used it to simulate general election, what would we find? If the market is roughly efficient, we would expect the mean of simulated election outcomes to be about the same as the national election markets. \n",
    "\n",
    "This naive approach yields a 97% chance of a Clinton win. This estimate is significantly higher than the PredictIt general election market, and higher than Rothchild's [debiased aggregate](http://predictwise.com/). However, in each simulated elections, state outcomes should be highly correlated with one another (thanks to  [David Rothschild](researchdmr.com/) for pointing this out).\n",
    "\n",
    "After adding an election-level 'temperature' to each trial, and using that to jitter state-level election results, **I get predicted share price of 85¢, and predicted 92% odds of a Clinton win** - closer in line with FiveThirtyEight and PredictWise, respectively, but still **higher than PredictIt's national market, where Clinton shares are trading for about 80¢**.\n",
    "\n",
    "### Conclusions\n",
    "\n",
    "So, are the general markets not bullish enough on Clinton, or are the state markets too bullish on Clinton? I suspect both. A few states -- specifically, Georgia, Alaska, Arizona and Montana --  may have overpriced Clinton shares.  The betting odds in Georgia, e.g., are 62/27 Trump. I bet -- and I probably didn't need to program anything to know this -- that Trump wins in Georgia. \n",
    "\n",
    "On the other hand, FiveThirtyEight and PredictWise has the odds above what one would expect from national market odds. Now I can add my own forecast to that list. So, perhaps Clinton prices are undervalued in the national betting markets.\n",
    "\n",
    "All of this said, I am *not* a trained economist, statistician or politican scientist. **AND YOU SHOULD NEVER BET!**. Also, this work suffers from a lack of historical data on PredictIt markets, which prevents me from properly turning my own share data into probabilities. I am relying on David Rothschild's aggergated market probability.\n",
    "\n",
    "If you have any comments on this work, or if you have historical data from a prediction market, please contact me:\n",
    "\n",
    "`ffff [at] berkeley [] edu`\n",
    "\n",
    "\n",
    "## Simulating the election with market-derived probabilities\n",
    "\n",
    "First, we'll get a prediction market from each state on PredictIt. \n",
    "\n",
    "PredictIt has a Republican and Democratic market for each state election, with each market having its own yes/no. The odds on an outcome may be slightly different between markets (more on this below). "
   ]
  },
  {
   "cell_type": "code",
   "execution_count": 1,
   "metadata": {
    "autoscroll": "json-false",
    "collapsed": false,
    "ein.tags": [
     "worksheet-0"
    ],
    "slideshow": {
     "slide_type": "-"
    }
   },
   "outputs": [
    {
     "name": "stdout",
     "output_type": "stream",
     "text": [
      "Requirement already satisfied (use --upgrade to upgrade): requests in /usr/local/lib/python2.7/site-packages\n",
      "Populating the interactive namespace from numpy and matplotlib\n"
     ]
    }
   ],
   "source": [
    "!pip install requests\n",
    "%pylab inline\n",
    "import requests \n",
    "import json\n",
    "\n",
    "def request_json (url):\n",
    "    return json.loads(\n",
    "           requests.get(url, headers={\n",
    "            'Accept':'application/json'}).content)\n",
    "\n",
    "my_url = 'https://www.predictit.org/api/marketdata/ticker/RNOM16'\n",
    "request_json(my_url)\n",
    "\n",
    "def predictit (ticker):\n",
    "    return request_json('https://www.predictit.org/api/marketdata/ticker/' + ticker)\n",
    "\n",
    "def market (state_abbreviation, party):\n",
    "    api_res = predictit('DEM.'+state_abbreviation+'.USPREZ16')\n",
    "    contracts = api_res['Contracts']\n",
    "    contract = filter(lambda c: c['ShortName']==party, contracts)[0]\n",
    "    return contract\n",
    "\n",
    "# market('CA', 'Republican')"
   ]
  },
  {
   "cell_type": "markdown",
   "metadata": {
    "ein.tags": [
     "worksheet-0"
    ],
    "slideshow": {
     "slide_type": "-"
    }
   },
   "source": [
    "\n",
    "We need to turn the prediction market prices into probabilities. Following [Rothschild, 2009](http://researchdmr.com/RothschildPOQ2009.pdf):\n",
    "\n",
    "> First, I take the average of the bid and ask for the stock that pays out if the Democrat wins on Election Day. If the bid-ask spread is greater than five points, I take the last sale price. If there are no active offers and no sales in the last two weeks of the race, I drop the race.\n",
    "\n",
    "We can do this separately for both Democratic and Republican markets. We'll focus on the Clinton win outcome, corresponding to a yes in the Democratic markets and a No in the Republican markets.\n",
    "\n",
    "We should also debias this probability. Following Leigh et al. (2007) *Is There a Favorite-Longshot Bias in Election Markets?*, Rothschild (2009) suggests `Pr = theta(1.64*theta^-1(price))`. \n",
    "\n",
    "*Limitations*: I don't have programmatic access to historical trade data, So I cannot find date of last sale. Consequently, no races are dropped here. Without historical trade data, I also can't find a value for [theta](http://www.investopedia.com/terms/t/theta.asp) so these values are not debiased. **If anyone has access to historical PredictIt data, or historical data from any prediction market, please contact me**:\n",
    "\n",
    "`ffff [at] berkeley [] edu`\n",
    "\n",
    "In the meantime, we'll make share prices into probabilities as best we can:"
   ]
  },
  {
   "cell_type": "code",
   "execution_count": 2,
   "metadata": {
    "autoscroll": "json-false",
    "collapsed": false,
    "ein.tags": [
     "worksheet-0"
    ],
    "slideshow": {
     "slide_type": "-"
    }
   },
   "outputs": [
    {
     "data": {
      "text/plain": [
       "0.9425"
      ]
     },
     "execution_count": 2,
     "metadata": {},
     "output_type": "execute_result"
    }
   ],
   "source": [
    "def probability (state_abbreviation, party=None):\n",
    "    # Average both party markets by default\n",
    "    if (party is None):\n",
    "       return (probability(state_abbreviation, 'Democratic') +\n",
    "              probability(state_abbreviation, 'Republican'))/2\n",
    "    mkt = market(state_abbreviation, party)\n",
    "    # For republican markets, get the No cost\n",
    "    if (party=='Republican'):\n",
    "       sell = mkt['BestSellNoCost']\n",
    "       buy = mkt['BestBuyNoCost']\n",
    "    # For democratic markets, get the \"Yes cost\n",
    "    elif (party=='Democratic'):\n",
    "       sell = mkt['BestSellYesCost']\n",
    "       buy = mkt['BestBuyYesCost']\n",
    "    # If the spread is > 5\n",
    "    spread = buy-sell\n",
    "    if (sell > 5):\n",
    "       # Just use the last trade price\n",
    "       return mkt['LastTradePrice']\n",
    "    return (sell+buy)/2.0\n",
    "\n",
    "probability('CA')\n"
   ]
  },
  {
   "cell_type": "markdown",
   "metadata": {},
   "source": [
    "To sanity check, we will also pull Rothchild's de-biased, market-derived probabilities."
   ]
  },
  {
   "cell_type": "code",
   "execution_count": 3,
   "metadata": {
    "collapsed": false
   },
   "outputs": [],
   "source": [
    "def predictwise_states (col):\n",
    "    table = json.loads(requests.get('http://table-cache1.predictwise.com/latest/table_1551.json').content)\n",
    "    def predictwise_state (row):\n",
    "        return {'name': row[0],\n",
    "                'probability': float(int(row[col].split(' ')[0]))/100.0,\n",
    "                'delegates': int(row[-1])}\n",
    "    return map(predictwise_state, table['table'])\n",
    "\n",
    "# debiased market probabilties\n",
    "debiased_states = predictwise_states(2)\n",
    "# predictwise statesk\n",
    "pw_states = predictwise_states(1)"
   ]
  },
  {
   "cell_type": "markdown",
   "metadata": {
    "ein.tags": [
     "worksheet-0"
    ],
    "slideshow": {
     "slide_type": "-"
    }
   },
   "source": [
    "Now, we'll construct a list of all `states`, where each state has a `probability` of a Clinton win, and a number of `delegates`."
   ]
  },
  {
   "cell_type": "code",
   "execution_count": 4,
   "metadata": {
    "autoscroll": "json-false",
    "collapsed": false,
    "ein.tags": [
     "worksheet-0"
    ],
    "slideshow": {
     "slide_type": "-"
    }
   },
   "outputs": [
    {
     "name": "stdout",
     "output_type": "stream",
     "text": [
      "sanity check - delegates add up to 538? True\n"
     ]
    }
   ],
   "source": [
    "def state (abbrev, delegates):\n",
    "    return {\"abbreviation\": abbrev,\n",
    "           \"delegates\": delegates,\n",
    "           \"probability\": probability(abbrev),}\n",
    "\n",
    "states_delegates = {'AL':9, 'AK':3, 'AZ':11, 'AR':6, 'CA':55, 'CO':9, 'CT':7, 'DC':3, 'DE':3, 'FL':29, 'GA':16, 'HI':4, 'ID':4, 'IL':20, 'IN':11, 'IA':6, 'KS':6, 'KY':8, 'LA':8, 'ME':4, 'MD':10, 'MA':11, 'MI':16, 'MN':10, 'MS':6, 'MO':10, 'MT':3, 'NE':5, 'NV':6, 'NH':4, 'NJ':14, 'NM':5, 'NY':29, 'NC':15, 'ND':3, 'OH':18, 'OK':7, 'OR':7, 'PA':20, 'RI':4, 'SC':9, 'SD':3, 'TN':11, 'TX':38, 'UT':6, 'VT':3, 'VA':13, 'WA':12, 'WV':5, 'WI':10, 'WY':3,} \n",
    "print 'sanity check - delegates add up to 538?', 538 == sum([val for key, val in states_delegates.iteritems()])\n",
    "\n",
    "states = [state(key,val) for key, val in states_delegates.iteritems()]\n"
   ]
  },
  {
   "cell_type": "markdown",
   "metadata": {
    "ein.tags": [
     "worksheet-0"
    ],
    "slideshow": {
     "slide_type": "-"
    }
   },
   "source": [
    "**Update 10-16-16** As David Rothschild pointed out, outcomes in each state are heavily correlated with one another:\n",
    "\n",
    "> 1) Impact of events are heavily correlated through all states.\n",
    "> 2) Election Day polling error is reasonably correlated.\n",
    "> I work off a correlation matrix that is unique to each pairwise group, but is roughly 75% correlation on average.\n",
    "\n",
    "**TODO** How are election day polling errors correlated? How do we find them?\n",
    "\n",
    "As far as correlated outcomes across states, I pick some election wide `temperature` (a random variable chosen from a normal distribution with a mean of 0), then, for each state, I use that temperature to generate a `probability_offset` unique to that state (a random variable chosen from a normal distribution with a mean of `temperature`).\n"
   ]
  },
  {
   "cell_type": "code",
   "execution_count": 5,
   "metadata": {
    "autoscroll": "json-false",
    "collapsed": false,
    "ein.tags": [
     "worksheet-0"
    ],
    "slideshow": {
     "slide_type": "-"
    }
   },
   "outputs": [],
   "source": [
    "def normal (center, scale):\n",
    "    return random.normal(center,scale)\n",
    "\n",
    "def t (center, scale):\n",
    "    return random.standard_t\n",
    "def bound (probability):\n",
    "    if (probability>1):\n",
    "        return 1\n",
    "    elif (probability<0):\n",
    "        return 0\n",
    "    return probability\n",
    "\n",
    "# normal(0,1)"
   ]
  },
  {
   "cell_type": "markdown",
   "metadata": {
    "ein.tags": [
     "worksheet-0"
    ],
    "slideshow": {
     "slide_type": "-"
    }
   },
   "source": [
    "Finally we can start to simulate elections. We'll use each probability to allocate delegates, or not, to Clinton. We'll do this some number of times, producing a list of Clinton delegates elected in each simulation.\n",
    "Now we can calculate how many of those elections Clinton won. We will count only majority wins. Electoral deadlocks will count as a loss."
   ]
  },
  {
   "cell_type": "code",
   "execution_count": 13,
   "metadata": {
    "autoscroll": "json-false",
    "collapsed": false,
    "ein.tags": [
     "worksheet-0"
    ],
    "slideshow": {
     "slide_type": "-"
    }
   },
   "outputs": [
    {
     "name": "stdout",
     "output_type": "stream",
     "text": [
      "predicted market price: 0.87258 ¢\n",
      "predicted Clinton (debiased market probabilities): 93.463 %\n",
      "predicted Clinton (PredictWise state probabilities): 91.821 %\n"
     ]
    }
   ],
   "source": [
    "random.seed()\n",
    "# for each election in the simulation,\n",
    "# pick a temperature from a normal distribution\n",
    "temperature_mean = 0\n",
    "temperature_stdev = 0.1\n",
    "# for each state in each election,\n",
    "# probability offset is chosen from normal distribution\n",
    "# with mean at election temperature\n",
    "state_offset_stdev = 0.1\n",
    "\n",
    "def decide (probability):\n",
    "    return random.random()<probability\n",
    "    \n",
    "def election_holder (temperature):\n",
    "    '''\n",
    "    Returns fn (state), which simulates an election in that state,\n",
    "    and returns a number of delegates allocated to Dems (0 if loss).\n",
    "    '''\n",
    "    def hold_election (state):\n",
    "        probability_offset = normal(temperature, state_offset_stdev)\n",
    "        probability = bound(state['probability'] + probability_offset)\n",
    "        return state['delegates'] * decide(probability)\n",
    "    return hold_election\n",
    "\n",
    "def simulate_election (states):\n",
    "    '''\n",
    "    Return number of delegates for Clinton.\n",
    "    '''\n",
    "    temperature = normal(temperature_mean, temperature_stdev)\n",
    "    return sum(map(election_holder(temperature), states))\n",
    "    \n",
    "def simulate_elections (trials, states):\n",
    "    ts = [states for i in range(trials)]\n",
    "    return map(simulate_election, ts)\n",
    "\n",
    "def percent_winning (simulations):\n",
    "    winning = lambda delegates: delegates > 268\n",
    "    return float(len(filter(winning, simulations)))/float(num_trials)\n",
    "\n",
    "num_trials = 100000\n",
    "simulations = simulate_elections(num_trials, states)\n",
    "predicted_market_price = percent_winning(simulations)\n",
    "print 'predicted market price:',  predicted_market_price, '¢'\n",
    "\n",
    "simulations = simulate_elections(num_trials, debiased_states)\n",
    "predicted_prob_debiased = percent_winning(simulations)*100\n",
    "print 'predicted Clinton (debiased market probabilities):', predicted_prob_debiased, '%'\n",
    "\n",
    "simulations = simulate_elections(num_trials, pw_states)\n",
    "predicted_prob_pw = percent_winning(simulations)*100\n",
    "print 'predicted Clinton (PredictWise state probabilities):', predicted_prob_pw, '%'"
   ]
  },
  {
   "cell_type": "markdown",
   "metadata": {
    "ein.tags": [
     "worksheet-0"
    ],
    "slideshow": {
     "slide_type": "-"
    }
   },
   "source": [
    "\n",
    "Here's a distribution of the number of delegates Clinton gets in each election. The blue line represents the 270 delegates needed to win the electoral college."
   ]
  },
  {
   "cell_type": "code",
   "execution_count": 7,
   "metadata": {
    "autoscroll": "json-false",
    "collapsed": false,
    "ein.tags": [
     "worksheet-0"
    ],
    "slideshow": {
     "slide_type": "-"
    }
   },
   "outputs": [
    {
     "data": {
      "text/plain": [
       "<matplotlib.lines.Line2D at 0x10ad44fd0>"
      ]
     },
     "execution_count": 7,
     "metadata": {},
     "output_type": "execute_result"
    },
    {
     "data": {
      "image/png": "[encoded data removed]",
      "text/plain": [
       "<matplotlib.figure.Figure at 0x109b84c90>"
      ]
     },
     "metadata": {},
     "output_type": "display_data"
    }
   ],
   "source": [
    "plt.title('Distribution of delegates to Clinton (debiased)')\n",
    "plt.hist(simulations, 50, normed=1, facecolor='green', alpha=0.75)\n",
    "plt.axvline(x=279)\n"
   ]
  },
  {
   "cell_type": "markdown",
   "metadata": {
    "ein.tags": [
     "worksheet-0"
    ],
    "slideshow": {
     "slide_type": "-"
    }
   },
   "source": [
    "# Something doesn't add up. Where are the biases?\n",
    "\n",
    "Our estimated 85¢ share price  is significantly higher than the PredictIt general election market (which has about 80¢ for Clinton shares as of 10-16-16).  Are the general markets not bullish enough on Clinton, or are the state markets too bullish on Clinton?\n",
    "\n",
    "Let's assume that the national election markets, and poll-based forecasts, are roughly correct. What would it mean for the state markets to undervalue a Clinton win? Well, let's take a look at those states where market prices have an estimated 20% to 50% chance of a Clinton win."
   ]
  },
  {
   "cell_type": "code",
   "execution_count": 9,
   "metadata": {
    "autoscroll": "json-false",
    "collapsed": false,
    "ein.tags": [
     "worksheet-0"
    ],
    "slideshow": {
     "slide_type": "-"
    }
   },
   "outputs": [
    {
     "data": {
      "text/plain": [
       "[{'abbreviation': 'GA', 'delegates': 16, 'probability': 0.3375},\n",
       " {'abbreviation': 'AK', 'delegates': 3, 'probability': 0.2575},\n",
       " {'abbreviation': 'UT', 'delegates': 6, 'probability': 0.27249999999999996},\n",
       " {'abbreviation': 'MO', 'delegates': 10, 'probability': 0.20750000000000002}]"
      ]
     },
     "execution_count": 9,
     "metadata": {},
     "output_type": "execute_result"
    }
   ],
   "source": [
    "filter(lambda s: s['probability']<0.5 and s['probability']>0.2, states)"
   ]
  },
  {
   "cell_type": "markdown",
   "metadata": {
    "ein.tags": [
     "worksheet-0"
    ],
    "slideshow": {
     "slide_type": "-"
    }
   },
   "source": [
    "Excluding Utah, which has a [non-negligable chance of a 3rd-party win](http://www.nytimes.com/2016/10/15/us/politics/evan-mcmullin-campaign-utah.html?_r=0), these other states may have overvalued Clinton shares.\n",
    "\n",
    "Of course, my derived value is also greater than the national poll vaue. So, maybe share prices are undervalued in the national polls.\n",
    "\n",
    "All of this said **YOU SHOULD NEVER BET!!!!**. I am not a professional, and this is not betting advice. Don't do it!\n",
    "\n",
    "Finally, let's grab the fivethirtyeight forecast for comparison, and write the whole mess to a CSV file"
   ]
  },
  {
   "cell_type": "code",
   "execution_count": 28,
   "metadata": {
    "collapsed": false
   },
   "outputs": [],
   "source": [
    "# fivethirtyeight\n",
    "forecastURL = 'http://projects.fivethirtyeight.com/2016-election-forecast/US.json'\n",
    "forecast = requests.get(forecastURL).json()\n",
    "clinton538 = forecast['forecasts']['latest']['D']['models']['polls']['winprob']\n",
    "\n",
    "# predictwise\n",
    "forecastURL = 'http://table-cache1.predictwise.com/history/table_1032.json'\n",
    "forecast = requests.get(forecastURL).json()\n",
    "predictwise = forecast['latest']\n",
    "def dem (r):\n",
    "    return r[0]=='Democratic'\n",
    "clinton_pw = float(filter(dem, predictwise)[0][1].split(' ')[0])\n",
    "\n",
    "row = ','.join([\n",
    "    '\\n',\n",
    "    datetime.datetime.now().isoformat(),\n",
    "    str(predicted_market_price),\n",
    "    str(predicted_prob_debiased),\n",
    "    str(predicted_prob_pw),\n",
    "    str(clinton538), \n",
    "    str(clinton_pw),\n",
    "    ])\n",
    "fd = open('predictions.csv','a')\n",
    "fd.write(row)\n",
    "fd.close()"
   ]
  }
 ],
 "metadata": {
  "kernelspec": {
   "display_name": "Python 2",
   "language": "python",
   "name": "python2"
  },
  "language_info": {
   "codemirror_mode": {
    "name": "ipython",
    "version": 2
   },
   "file_extension": ".py",
   "mimetype": "text/x-python",
   "name": "python",
   "nbconvert_exporter": "python",
   "pygments_lexer": "ipython2",
   "version": "2.7.11"
  },
  "name": "market-forecasts.ipynb"
 },
 "nbformat": 4,
 "nbformat_minor": 1
}
