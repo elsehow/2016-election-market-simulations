{
 "cells": [
  {
   "cell_type": "markdown",
   "metadata": {
    "ein.tags": [
     "worksheet-0"
    ],
    "slideshow": {
     "slide_type": "-"
    }
   },
   "source": [
    "# Does Clinton have a 97% chance of winning? \n",
    "\n",
    "## Biases (or inefficiencies) in election prediction markets\n",
    "\n",
    "PredictIt has several prediction markets [for the general election](https://www.predictit.org/Browse/Group/67/National). However, PredictIt also has a market for the election outcome in every state.\n",
    "\n",
    "If we took each state's prediction market, and used it to simulate general election, what would we find? If the market is roughly efficient, we would expect the mean of simulated election outcomes to be about the same as the national election markets. Surprisingly, **I find this technique yields a 97% chance of a Clinton win**. This estimate is significantly higher than the PredictIt general election market, and higher than Rothchild's [debiased aggregate](http://predictwise.com/). \n",
    "\n",
    "So, are the general markets not bullish enough on Clinton, or are the state markets too bullish on Clinton? Unfortunately, I suspect the latter. A few states -- specifically, Georgia, Alaska, Arizona and Montana --  may have overpriced Clinton shares. \n",
    "\n",
    "Of course, I am *not* a trained economist, statistician or politican scientist. This work also suffers from a serious limitation: no access to historical trade data. If you have notes on this, or access to historical data from a prediction market, please contact me:\n",
    "\n",
    "`ffff [at] berkeley [] edu`\n",
    "\n",
    "## Simulating the election with market-derived probabilities\n",
    "\n",
    "First, we'll get a prediction market from each state on PredictIt. \n",
    "\n",
    "PredictIt has a Republican and Democratic market for each state election, with each market having its own yes/no. The odds on an outcome may be slightly different between markets (more on this below). "
   ]
  },
  {
   "cell_type": "code",
   "execution_count": 1,
   "metadata": {
    "autoscroll": "json-false",
    "collapsed": false,
    "ein.tags": [
     "worksheet-0"
    ],
    "slideshow": {
     "slide_type": "-"
    }
   },
   "outputs": [
    {
     "name": "stdout",
     "output_type": "stream",
     "text": [
      "Populating the interactive namespace from numpy and matplotlib\n"
     ]
    },
    {
     "name": "stdout",
     "output_type": "stream",
     "text": [
      "Requirement already satisfied (use --upgrade to upgrade): requests in /usr/local/lib/python2.7/site-packages\r\n"
     ]
    }
   ],
   "source": [
    "!pip install requests\n",
    "%pylab inline\n",
    "import requests \n",
    "import json\n",
    "\n",
    "def request_json (url):\n",
    "    return json.loads(\n",
    "           requests.get(url, headers={\n",
    "            'Accept':'application/json'}).content)\n",
    "\n",
    "my_url = 'https://www.predictit.org/api/marketdata/ticker/RNOM16'\n",
    "request_json(my_url)\n",
    "\n",
    "def predictit (ticker):\n",
    "    return request_json('https://www.predictit.org/api/marketdata/ticker/' + ticker)\n",
    "\n",
    "def market (state_abbreviation, party):\n",
    "    api_res = predictit('DEM.'+state_abbreviation+'.USPREZ16')\n",
    "    contracts = api_res['Contracts']\n",
    "    contract = filter(lambda c: c['ShortName']==party, contracts)[0]\n",
    "    return contract\n",
    "\n",
    "# market('CA', 'Republican')"
   ]
  },
  {
   "cell_type": "markdown",
   "metadata": {
    "ein.tags": [
     "worksheet-0"
    ],
    "slideshow": {
     "slide_type": "-"
    }
   },
   "source": [
    "\n",
    "We need to turn the prediction market prices into probabilities. Following [Rothschild, 2009](http://researchdmr.com/RothschildPOQ2009.pdf):\n",
    "\n",
    "> First, I take the average of the bid and ask for the stock that pays out if the Democrat wins on Election Day. If the bid-ask spread is greater than five points, I take the last sale price. If there are no active offers and no sales in the last two weeks of the race, I drop the race.\n",
    "\n",
    "We can do this separately for both Democratic and Republican markets. We'll focus on the Clinton win outcome, corresponding to a yes in the Democratic markets and a No in the Republican markets.\n",
    "\n",
    "We should also debias this probability. Following Leigh et al. (2007) *Is There a Favorite-Longshot Bias in Election Markets?*, Rothschild (2009) suggests `Pr = theta(1.64*theta^-1(price))`. \n",
    "\n",
    "*Limitations*: I don't have programmatic access to historical trade data, So I cannot find date of last sale. Consequently, no races are dropped here. Without historical trade data, I also can't find a value for [theta](http://www.investopedia.com/terms/t/theta.asp) so these values are not debiased. **If anyone has access to historical PredictIt data, or historical data from any prediction market, please contact me**:\n",
    "\n",
    "`ffff [at] berkeley [] edu`\n",
    "\n",
    "In the meantime, we'll make share prices into probabilities as best we can:\n",
    "\n"
   ]
  },
  {
   "cell_type": "code",
   "execution_count": 2,
   "metadata": {
    "autoscroll": "json-false",
    "collapsed": false,
    "ein.tags": [
     "worksheet-0"
    ],
    "slideshow": {
     "slide_type": "-"
    }
   },
   "outputs": [
    {
     "data": {
      "text/plain": [
       "0.955"
      ]
     },
     "execution_count": 2,
     "metadata": {},
     "output_type": "execute_result"
    }
   ],
   "source": [
    "def probability (state_abbreviation, party=None):\n",
    "    # Average both party markets by default\n",
    "    if (party is None):\n",
    "       return (probability(state_abbreviation, 'Democratic') +\n",
    "              probability(state_abbreviation, 'Republican'))/2\n",
    "    mkt = market(state_abbreviation, party)\n",
    "    # For republican markets, get the No cost\n",
    "    if (party=='Republican'):\n",
    "       sell = mkt['BestSellNoCost']\n",
    "       buy = mkt['BestBuyNoCost']\n",
    "    # For democratic markets, get the \"Yes cost\n",
    "    elif (party=='Democratic'):\n",
    "       sell = mkt['BestSellYesCost']\n",
    "       buy = mkt['BestBuyYesCost']\n",
    "    # If the spread is > 5\n",
    "    spread = buy-sell\n",
    "    if (sell > 5):\n",
    "       # Just use the last trade price\n",
    "       return mkt['LastTradePrice']\n",
    "    return (sell+buy)/2.0\n",
    "\n",
    "probability('CA')\n"
   ]
  },
  {
   "cell_type": "markdown",
   "metadata": {
    "ein.tags": [
     "worksheet-0"
    ],
    "slideshow": {
     "slide_type": "-"
    }
   },
   "source": [
    "Now, we'll construct a list of all `states`, where each state has a `probability` of a Clinton win, and a number of `delegates`."
   ]
  },
  {
   "cell_type": "code",
   "execution_count": 135,
   "metadata": {
    "autoscroll": "json-false",
    "collapsed": false,
    "ein.tags": [
     "worksheet-0"
    ],
    "slideshow": {
     "slide_type": "-"
    }
   },
   "outputs": [
    {
     "name": "stdout",
     "output_type": "stream",
     "text": [
      "sanity check - delegates add up to 538? True\n"
     ]
    }
   ],
   "source": [
    "def state (abbrev, delegates):\n",
    "    return {\"abbreviation\": abbrev,\n",
    "           \"delegates\": delegates,\n",
    "           \"probability\": probability(abbrev),}\n",
    "\n",
    "states_delegates = {'AL':9, 'AK':3, 'AZ':11, 'AR':6, 'CA':55, 'CO':9, 'CT':7, 'DC':3, 'DE':3, 'FL':29, 'GA':16, 'HI':4, 'ID':4, 'IL':20, 'IN':11, 'IA':6, 'KS':6, 'KY':8, 'LA':8, 'ME':4, 'MD':10, 'MA':11, 'MI':16, 'MN':10, 'MS':6, 'MO':10, 'MT':3, 'NE':5, 'NV':6, 'NH':4, 'NJ':14, 'NM':5, 'NY':29, 'NC':15, 'ND':3, 'OH':18, 'OK':7, 'OR':7, 'PA':20, 'RI':4, 'SC':9, 'SD':3, 'TN':11, 'TX':38, 'UT':6, 'VT':3, 'VA':13, 'WA':12, 'WV':5, 'WI':10, 'WY':3,} \n",
    "print 'sanity check - delegates add up to 538?', 538 == sum([val for key, val in states_delegates.iteritems()])\n",
    "\n",
    "states = [state(key,val) for key, val in states_delegates.iteritems()]\n"
   ]
  },
  {
   "cell_type": "markdown",
   "metadata": {
    "ein.tags": [
     "worksheet-0"
    ],
    "slideshow": {
     "slide_type": "-"
    }
   },
   "source": [
    "Now we can start to simulate elections. We'll use each probability to allocate delegates, or not, to Clinton. We'll do this some number of times, producing a list of Clinton delegates elected in each simulation.\n",
    "\n",
    "**Update 10-16-16** As David Rothschild pointed out, outcomes in each state are heavily correlated with one another:\n",
    "\n",
    "> 1) Impact of events are heavily correlated through all states.\n",
    "> 2) Election Day polling error is reasonably correlated.\n",
    "> I work off a correlation matrix that is unique to each pairwise group, but is roughly 75% correlation on average.\n",
    "\n",
    "**TODO** How are election day polling errors correlated? How do we find them?\n",
    "\n",
    "As far as correlated outcomes across states, I pick some election wide `temperature` (a random variable chosen from a normal distribution with a mean of 0), then, for each state, I use that temperature to generate a `probability_offset` unique to that state (a random variable chosen from a normal distribution with a mean of `temperature`).\n"
   ]
  },
  {
   "cell_type": "code",
   "execution_count": 127,
   "metadata": {
    "autoscroll": "json-false",
    "collapsed": false,
    "ein.tags": [
     "worksheet-0"
    ],
    "slideshow": {
     "slide_type": "-"
    }
   },
   "outputs": [
    {
     "data": {
      "text/plain": [
       "0.8377980225084642"
      ]
     },
     "execution_count": 127,
     "metadata": {},
     "output_type": "execute_result"
    }
   ],
   "source": [
    "def normal (center, scale):\n",
    "    return random.normal(center,scale)\n",
    "\n",
    "def bound (probability):\n",
    "    if (probability>1):\n",
    "        return 1\n",
    "    elif (probability<0):\n",
    "        return 0\n",
    "    return probability\n",
    "\n",
    "normal(0,1)\n"
   ]
  },
  {
   "cell_type": "code",
   "execution_count": 168,
   "metadata": {
    "autoscroll": "json-false",
    "collapsed": false,
    "ein.tags": [
     "worksheet-0"
    ],
    "slideshow": {
     "slide_type": "-"
    }
   },
   "outputs": [
    {
     "name": "stdout",
     "output_type": "stream",
     "text": [
      "simulated 1000 elections\n",
      "% elections won by Clinton: 0.859\n"
     ]
    }
   ],
   "source": [
    "random.seed()\n",
    "# standard deviation of the variance that election 'temperatures' (and offset from those temperatures) are chosen from.\n",
    "temperature_stdev = 0.1\n",
    "# offsets are chosen from a normal distribtuion,\n",
    "# with a mean of the global temperature,\n",
    "# and a stdev of the variance_std/10\n",
    "# intuition here is that state variability is an order of magnitude\n",
    "# less variable than overall mood. good assumption? you decide!\n",
    "state_offset_stdev = 0.01\n",
    "\n",
    "def decide (probability):\n",
    "    return random.random()<probability\n",
    "    \n",
    "def election_holder (temperature):\n",
    "    '''\n",
    "    Returns fn (state), which simulates an election in that state,\n",
    "    and returns a number of delegates allocated to Dems (0 if loss).\n",
    "    '''\n",
    "    def hold_election (state):\n",
    "        probability_offset = normal(temperature, state_offset_stdev)\n",
    "        probability = bound(state['probability'] + probability_offset)\n",
    "        return state['delegates'] * decide(probability)\n",
    "    return hold_election\n",
    "\n",
    "def simulate_election (states):\n",
    "    '''\n",
    "    Return number of delegates for Clinton.\n",
    "    '''\n",
    "    temperature = normal(0, temperature_stdev)\n",
    "    return sum(map(election_holder(temperature), states))\n",
    "    \n",
    "def simulate_elections (trials):\n",
    "    ts = [states for i in range(trials)]\n",
    "    return map(simulate_election, ts)\n",
    "    \n",
    "num_trials = 1000\n",
    "simulations = simulate_elections(num_trials)\n",
    "print 'simulated', num_trials, 'elections'\n",
    "\n",
    "def winning (delegates):\n",
    "    return delegates > 270\n",
    "\n",
    "# DEBUG\n",
    "win_percent = float(len(filter(winning, simulations)))/float(num_trials)\n",
    "print '% elections won by Clinton: ' + str(win_percent)\n"
   ]
  },
  {
   "cell_type": "markdown",
   "metadata": {
    "ein.tags": [
     "worksheet-0"
    ],
    "slideshow": {
     "slide_type": "-"
    }
   },
   "source": [
    "Now we can calculate how many of those elections Clinton won. We will count only majority wins. Electoral deadlocks will count as a loss.\n"
   ]
  },
  {
   "cell_type": "code",
   "execution_count": 103,
   "metadata": {
    "autoscroll": "json-false",
    "collapsed": false,
    "ein.tags": [
     "worksheet-0"
    ],
    "slideshow": {
     "slide_type": "-"
    }
   },
   "outputs": [
    {
     "name": "stdout",
     "output_type": "stream",
     "text": [
      "% elections won by Clinton: 1.0\n"
     ]
    }
   ],
   "source": [
    "\n",
    "print '% elections won by Clinton: ' + str(win_percent)"
   ]
  },
  {
   "cell_type": "markdown",
   "metadata": {
    "ein.tags": [
     "worksheet-0"
    ],
    "slideshow": {
     "slide_type": "-"
    }
   },
   "source": [
    "Here's a distribution of the number of delegates Clinton gets in each election. The blue line represents the 270 delegates needed to win the electoral college."
   ]
  },
  {
   "cell_type": "code",
   "execution_count": 89,
   "metadata": {
    "autoscroll": "json-false",
    "collapsed": false,
    "ein.tags": [
     "worksheet-0"
    ],
    "slideshow": {
     "slide_type": "-"
    }
   },
   "outputs": [
    {
     "data": {
      "image/png": "[encoded data removed]",
      "text/plain": [
       "<matplotlib.figure.Figure at 0x1121b8e50>"
      ]
     },
     "metadata": {},
     "output_type": "display_data"
    },
    {
     "data": {
      "text/plain": [
       "<matplotlib.lines.Line2D at 0x112285e10>"
      ]
     },
     "execution_count": 89,
     "metadata": {},
     "output_type": "execute_result"
    }
   ],
   "source": [
    "plt.title('Distribution of delegates to Clinton')\n",
    "plt.hist(simulations, 50, normed=1, facecolor='green', alpha=0.75)\n",
    "plt.axvline(x=279)\n"
   ]
  },
  {
   "cell_type": "markdown",
   "metadata": {
    "ein.tags": [
     "worksheet-0"
    ],
    "slideshow": {
     "slide_type": "-"
    }
   },
   "source": [
    "# Something doesn't add up. Where are the biases?\n",
    "\n",
    "Our estimated 97% chance of a Clinton win is significantly higher than the PredictIt general election market (which has about 82¢ for Clinton shares as of 10-16-16). It is also much higher than Rothchild's [debiased aggregate](http://predictwise.com/). Are the general markets not bullish enough on Clinton, or are the state markets too bullish on Clinton?\n",
    "\n",
    "Let's assume that the national election markets, and poll-based forecasts, are roughly correct. What would it mean for the state markets to undervalue a Clinton win? Well, let's take a look at those states where market prices have an estimated 20% to 50% chance of a Clinton win."
   ]
  },
  {
   "cell_type": "code",
   "execution_count": 90,
   "metadata": {
    "autoscroll": "json-false",
    "collapsed": false,
    "ein.tags": [
     "worksheet-0"
    ],
    "slideshow": {
     "slide_type": "-"
    }
   },
   "outputs": [
    {
     "data": {
      "text/plain": [
       "[{'abbreviation': 'GA', 'delegates': 16, 'probability': 0.28},\n",
       " {'abbreviation': 'AK', 'delegates': 3, 'probability': 0.2475},\n",
       " {'abbreviation': 'AZ', 'delegates': 11, 'probability': 0.45999999999999996},\n",
       " {'abbreviation': 'MO', 'delegates': 10, 'probability': 0.2025}]"
      ]
     },
     "execution_count": 90,
     "metadata": {},
     "output_type": "execute_result"
    }
   ],
   "source": [
    "filter(lambda s: s['probability']<0.5 and s['probability']>0.2, states)"
   ]
  },
  {
   "cell_type": "markdown",
   "metadata": {
    "ein.tags": [
     "worksheet-0"
    ],
    "slideshow": {
     "slide_type": "-"
    }
   },
   "source": [
    "Excluding Utah, which has a [non-negligable chance of a 3rd-party win](http://www.nytimes.com/2016/10/15/us/politics/evan-mcmullin-campaign-utah.html?_r=0), these other states may have overvalued Clinton shares.\n",
    "\n",
    "To sanity check, let's replicate everything with Rothchild's de-biased, market-derived probabilities."
   ]
  },
  {
   "cell_type": "code",
   "execution_count": 120,
   "metadata": {
    "autoscroll": "json-false",
    "collapsed": true,
    "ein.tags": [
     "worksheet-0"
    ],
    "slideshow": {
     "slide_type": "-"
    }
   },
   "outputs": [
    {
     "data": {
      "text/plain": [
       "[{'delegates': 9, 'name': u'Alabama', 'probability': 0.01},\n",
       " {'delegates': 3, 'name': u'Alaska', 'probability': 0.13},\n",
       " {'delegates': 11, 'name': u'Arizona', 'probability': 0.45},\n",
       " {'delegates': 6, 'name': u'Arkansas', 'probability': 0.02},\n",
       " {'delegates': 55, 'name': u'California', 'probability': 1.0},\n",
       " {'delegates': 9, 'name': u'Colorado', 'probability': 0.96},\n",
       " {'delegates': 7, 'name': u'Connecticut', 'probability': 1.0},\n",
       " {'delegates': 3, 'name': u'Delaware', 'probability': 1.0},\n",
       " {'delegates': 3, 'name': u'District of Columbia', 'probability': 1.0},\n",
       " {'delegates': 29, 'name': u'Florida', 'probability': 0.9},\n",
       " {'delegates': 16, 'name': u'Georgia', 'probability': 0.16},\n",
       " {'delegates': 4, 'name': u'Hawaii', 'probability': 1.0},\n",
       " {'delegates': 4, 'name': u'Idaho', 'probability': 0.01},\n",
       " {'delegates': 20, 'name': u'Illinois', 'probability': 1.0},\n",
       " {'delegates': 11, 'name': u'Indiana', 'probability': 0.07},\n",
       " {'delegates': 6, 'name': u'Iowa', 'probability': 0.61},\n",
       " {'delegates': 6, 'name': u'Kansas', 'probability': 0.04},\n",
       " {'delegates': 8, 'name': u'Kentucky', 'probability': 0.01},\n",
       " {'delegates': 8, 'name': u'Louisiana', 'probability': 0.02},\n",
       " {'delegates': 4, 'name': u'Maine', 'probability': 0.95},\n",
       " {'delegates': 10, 'name': u'Maryland', 'probability': 1.0},\n",
       " {'delegates': 11, 'name': u'Massachusetts', 'probability': 1.0},\n",
       " {'delegates': 16, 'name': u'Michigan', 'probability': 0.96},\n",
       " {'delegates': 10, 'name': u'Minnesota', 'probability': 0.99},\n",
       " {'delegates': 6, 'name': u'Mississippi', 'probability': 0.02},\n",
       " {'delegates': 10, 'name': u'Missouri', 'probability': 0.09},\n",
       " {'delegates': 3, 'name': u'Montana', 'probability': 0.04},\n",
       " {'delegates': 5, 'name': u'Nebraska', 'probability': 0.03},\n",
       " {'delegates': 6, 'name': u'Nevada', 'probability': 0.9},\n",
       " {'delegates': 4, 'name': u'New Hampshire', 'probability': 0.91},\n",
       " {'delegates': 14, 'name': u'New Jersey', 'probability': 0.99},\n",
       " {'delegates': 5, 'name': u'New Mexico', 'probability': 0.98},\n",
       " {'delegates': 29, 'name': u'New York', 'probability': 1.0},\n",
       " {'delegates': 15, 'name': u'North Carolina', 'probability': 0.87},\n",
       " {'delegates': 3, 'name': u'North Dakota', 'probability': 0.02},\n",
       " {'delegates': 18, 'name': u'Ohio', 'probability': 0.76},\n",
       " {'delegates': 7, 'name': u'Oklahoma', 'probability': 0.01},\n",
       " {'delegates': 7, 'name': u'Oregon', 'probability': 0.99},\n",
       " {'delegates': 20, 'name': u'Pennsylvania', 'probability': 0.96},\n",
       " {'delegates': 4, 'name': u'Rhode Island', 'probability': 1.0},\n",
       " {'delegates': 9, 'name': u'South Carolina', 'probability': 0.06},\n",
       " {'delegates': 3, 'name': u'South Dakota', 'probability': 0.04},\n",
       " {'delegates': 11, 'name': u'Tennessee', 'probability': 0.03},\n",
       " {'delegates': 38, 'name': u'Texas', 'probability': 0.03},\n",
       " {'delegates': 6, 'name': u'Utah', 'probability': 0.06},\n",
       " {'delegates': 3, 'name': u'Vermont', 'probability': 1.0},\n",
       " {'delegates': 13, 'name': u'Virginia', 'probability': 0.98},\n",
       " {'delegates': 12, 'name': u'Washington', 'probability': 1.0},\n",
       " {'delegates': 5, 'name': u'West Virginia', 'probability': 0.01},\n",
       " {'delegates': 10, 'name': u'Wisconsin', 'probability': 0.95},\n",
       " {'delegates': 3, 'name': u'Wyoming', 'probability': 0.02}]"
      ]
     },
     "execution_count": 120,
     "metadata": {},
     "output_type": "execute_result"
    }
   ],
   "source": [
    "def predictwise_states ():\n",
    "    table = json.loads(requests.get('http://table-cache1.predictwise.com/latest/table_1551.json').content)\n",
    "    def predictwise_state (row):\n",
    "        return {'name': row[0],\n",
    "                'probability': float(int(row[2].split(' ')[0]))/100.0,\n",
    "                'delegates': int(row[-1])}\n",
    "    return map(predictwise_state, table['table'])\n",
    "\n",
    "pw_states = predictwise_states()\n",
    "pw_states"
   ]
  },
  {
   "cell_type": "markdown",
   "metadata": {
    "ein.tags": [
     "worksheet-0"
    ],
    "slideshow": {
     "slide_type": "-"
    }
   },
   "source": [
    "Now we get a 100% pro"
   ]
  }
 ],
 "metadata": {
  "kernelspec": {
   "display_name": "Python 2",
   "name": "python2"
  },
  "language_info": {
   "codemirror_mode": {
    "name": "ipython",
    "version": 2
   },
   "file_extension": ".py",
   "mimetype": "text/x-python",
   "name": "python",
   "nbconvert_exporter": "python",
   "pygments_lexer": "ipython2",
   "version": "2.7.11"
  },
  "name": "market-forecasts.ipynb"
 },
 "nbformat": 4,
 "nbformat_minor": 1
}
